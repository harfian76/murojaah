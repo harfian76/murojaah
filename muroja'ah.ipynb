{
 "cells": [
  {
   "cell_type": "code",
   "execution_count": 2,
   "metadata": {},
   "outputs": [],
   "source": [
    "def cr(a,b):\n",
    "    return range (a,b+1)\n",
    "def pl(a):\n",
    "    print(a ,end=\"\")"
   ]
  },
  {
   "cell_type": "code",
   "execution_count": 3,
   "metadata": {},
   "outputs": [
    {
     "name": "stdout",
     "output_type": "stream",
     "text": [
      "*________\n",
      "_*_______\n",
      "__*______\n",
      "___*_____\n",
      "____*____\n",
      "_____*___\n",
      "______*__\n",
      "_______*_\n",
      "________*\n"
     ]
    }
   ],
   "source": [
    "for y in cr(1,9):\n",
    "    for x in cr(1,9):\n",
    "        if x==y:\n",
    "            pl(\"*\")\n",
    "        else:\n",
    "            pl(\"_\")\n",
    "    print()"
   ]
  },
  {
   "cell_type": "code",
   "execution_count": 4,
   "metadata": {},
   "outputs": [
    {
     "name": "stdout",
     "output_type": "stream",
     "text": [
      "________*\n",
      "_______*_\n",
      "______*__\n",
      "_____*___\n",
      "____*____\n",
      "___*_____\n",
      "__*______\n",
      "_*_______\n",
      "*________\n"
     ]
    }
   ],
   "source": [
    "for y in cr(1,9):\n",
    "    for x in cr(1,9):\n",
    "        if x==9-(y-1):\n",
    "            \n",
    "            pl(\"*\")\n",
    "        else:\n",
    "            pl(\"_\")\n",
    "    print()\n"
   ]
  },
  {
   "cell_type": "code",
   "execution_count": 5,
   "metadata": {},
   "outputs": [
    {
     "name": "stdout",
     "output_type": "stream",
     "text": [
      "*_______*\n",
      "_*_____*_\n",
      "__*___*__\n",
      "___*_*___\n",
      "____*____\n",
      "___*_*___\n",
      "__*___*__\n",
      "_*_____*_\n",
      "*_______*\n"
     ]
    }
   ],
   "source": [
    "for y in cr(1,9):\n",
    "    for x in cr(1,9):\n",
    "        if x==y or x==9-(y-1):\n",
    "            pl(\"*\")\n",
    "        else:\n",
    "            pl(\"_\")\n",
    "    print()"
   ]
  },
  {
   "cell_type": "code",
   "execution_count": 6,
   "metadata": {},
   "outputs": [
    {
     "name": "stdout",
     "output_type": "stream",
     "text": [
      "*___*___*\n",
      "_*__*__*_\n",
      "__*_*_*__\n",
      "___***___\n",
      "*********\n",
      "___***___\n",
      "__*_*_*__\n",
      "_*__*__*_\n",
      "*___*___*\n"
     ]
    }
   ],
   "source": [
    "for y in cr(1,9):\n",
    "    for x in cr (1,9):\n",
    "        if x==y or x==9-(y-1) or x==5 or y==5:\n",
    "            pl(\"*\")\n",
    "        else:\n",
    "            pl(\"_\")\n",
    "    print()"
   ]
  },
  {
   "cell_type": "code",
   "execution_count": 7,
   "metadata": {},
   "outputs": [
    {
     "name": "stdout",
     "output_type": "stream",
     "text": [
      "*________\n",
      "**_______\n",
      "***______\n",
      "****_____\n",
      "*****____\n",
      "******___\n",
      "*******__\n",
      "********_\n",
      "*********\n"
     ]
    }
   ],
   "source": [
    "for y in cr(1,9):\n",
    "    for x in cr(1,9):\n",
    "        if x<=y:\n",
    "            pl(\"*\")\n",
    "        else:\n",
    "            pl(\"_\")\n",
    "    print()"
   ]
  },
  {
   "cell_type": "code",
   "execution_count": 8,
   "metadata": {},
   "outputs": [
    {
     "name": "stdout",
     "output_type": "stream",
     "text": [
      "________*\n",
      "_______**\n",
      "______***\n",
      "_____****\n",
      "____*****\n",
      "___******\n",
      "__*******\n",
      "_********\n",
      "*********\n"
     ]
    }
   ],
   "source": [
    "for y in cr(1,9):\n",
    "    for x in cr(1,9):\n",
    "        if x>=9-(y-1):\n",
    "            pl(\"*\")\n",
    "        else:\n",
    "            pl(\"_\")\n",
    "    print()"
   ]
  },
  {
   "cell_type": "code",
   "execution_count": 9,
   "metadata": {},
   "outputs": [
    {
     "name": "stdout",
     "output_type": "stream",
     "text": [
      "*********\n",
      "_*******_\n",
      "__*****__\n",
      "___***___\n",
      "____*____\n",
      "___***___\n",
      "__*****__\n",
      "_*******_\n",
      "*********\n"
     ]
    }
   ],
   "source": [
    "for y in cr(1,9):\n",
    "    for x in cr(1,9):\n",
    "        if x>=y and x<=9-(y-1) or x<=y and x>=9-(y-1):\n",
    "            pl(\"*\")\n",
    "        else:\n",
    "            pl(\"_\")\n",
    "    print()"
   ]
  },
  {
   "cell_type": "code",
   "execution_count": 10,
   "metadata": {},
   "outputs": [
    {
     "name": "stdout",
     "output_type": "stream",
     "text": [
      "*_______*\n",
      "**_____**\n",
      "***___***\n",
      "****_****\n",
      "*********\n",
      "****_****\n",
      "***___***\n",
      "**_____**\n",
      "*_______*\n"
     ]
    }
   ],
   "source": [
    "for y in cr(1,9):\n",
    "    for x in cr(1,9):\n",
    "        if x<=y and x<=9-(y-1) or x>=y and x>=9-(y-1):\n",
    "            pl(\"*\")\n",
    "        else:\n",
    "            pl(\"_\")\n",
    "    print()"
   ]
  },
  {
   "cell_type": "code",
   "execution_count": 11,
   "metadata": {},
   "outputs": [],
   "source": [
    "def cr(a,b):\n",
    "    return range(a,b+1)\n",
    "def pl(a):\n",
    "    print(a ,end=\"\")"
   ]
  },
  {
   "cell_type": "code",
   "execution_count": 12,
   "metadata": {},
   "outputs": [
    {
     "name": "stdout",
     "output_type": "stream",
     "text": [
      "1________\n",
      "_3_______\n",
      "__5______\n",
      "___7_____\n",
      "____9____\n",
      "_____11___\n",
      "______13__\n",
      "_______15_\n",
      "________17\n"
     ]
    }
   ],
   "source": [
    "for y in cr(1,9):\n",
    "    for x in cr(1,9):\n",
    "        if x==y:\n",
    "            a=x*2-1\n",
    "            pl(a)\n",
    "        else:\n",
    "            pl(\"_\")\n",
    "    print()"
   ]
  },
  {
   "cell_type": "code",
   "execution_count": 13,
   "metadata": {},
   "outputs": [
    {
     "name": "stdout",
     "output_type": "stream",
     "text": [
      "________16\n",
      "_______14_\n",
      "______12__\n",
      "_____10___\n",
      "____8____\n",
      "___6_____\n",
      "__4______\n",
      "_2_______\n",
      "0________\n"
     ]
    }
   ],
   "source": [
    "for y in cr(1,9):\n",
    "    for x in cr(1,9):\n",
    "        if x==9-(y-1):\n",
    "            a=x*2-2\n",
    "            pl(a)\n",
    "        else:\n",
    "            pl(\"_\")\n",
    "    print()"
   ]
  },
  {
   "cell_type": "code",
   "execution_count": 14,
   "metadata": {},
   "outputs": [
    {
     "name": "stdout",
     "output_type": "stream",
     "text": [
      "1_______16\n",
      "_3_____14_\n",
      "__5___12__\n",
      "___7_10___\n",
      "____9____\n",
      "___6_11___\n",
      "__4___13__\n",
      "_2_____15_\n",
      "0_______17\n"
     ]
    }
   ],
   "source": [
    "for y in cr(1,9):\n",
    "    for x in cr(1,9):\n",
    "        if x==y:\n",
    "            a=x*2-1\n",
    "            pl(a)\n",
    "        elif x==9-(y-1):\n",
    "            a=x*2-2\n",
    "            pl(a)\n",
    "        else:\n",
    "            pl(\"_\")\n",
    "    print()"
   ]
  },
  {
   "cell_type": "code",
   "execution_count": 15,
   "metadata": {},
   "outputs": [
    {
     "name": "stdout",
     "output_type": "stream",
     "text": [
      "1___1___16\n",
      "_3__3__14_\n",
      "__5_5_12__\n",
      "___7710___\n",
      "0246910121416\n",
      "___61111___\n",
      "__4_13_13__\n",
      "_2__15__15_\n",
      "0___17___17\n"
     ]
    }
   ],
   "source": [
    "for y in cr(1,9):\n",
    "    for x in cr(1,9):\n",
    "        if x==y:\n",
    "            a=x*2-1\n",
    "            pl(a)\n",
    "        elif x==9-(y-1):\n",
    "            a=x*2-2\n",
    "            pl(a)\n",
    "        elif x==5:\n",
    "            a=y*2-1\n",
    "            pl(a)\n",
    "        elif y==5:\n",
    "            a=x*2-2\n",
    "            pl(a)\n",
    "        else:\n",
    "            pl(\"_\")\n",
    "    print()"
   ]
  },
  {
   "cell_type": "code",
   "execution_count": 16,
   "metadata": {},
   "outputs": [
    {
     "name": "stdout",
     "output_type": "stream",
     "text": [
      "1________\n",
      "13_______\n",
      "135______\n",
      "1357_____\n",
      "13579____\n",
      "1357911___\n",
      "135791113__\n",
      "13579111315_\n",
      "1357911131517\n"
     ]
    }
   ],
   "source": [
    "for y in cr(1,9):\n",
    "    for x in cr(1,9):\n",
    "        if x<=y:\n",
    "            a=x*2-1\n",
    "            pl(a)\n",
    "        else:\n",
    "            pl(\"_\")\n",
    "    print()"
   ]
  },
  {
   "cell_type": "code",
   "execution_count": 17,
   "metadata": {},
   "outputs": [
    {
     "name": "stdout",
     "output_type": "stream",
     "text": [
      "________16\n",
      "_______1416\n",
      "______121416\n",
      "_____10121416\n",
      "____810121416\n",
      "___6810121416\n",
      "__46810121416\n",
      "_246810121416\n",
      "0246810121416\n"
     ]
    }
   ],
   "source": [
    "for y in cr(1,9):\n",
    "    for x in cr(1,9):\n",
    "        if x>=9-(y-1):\n",
    "            a=x*2-2\n",
    "            pl(a)\n",
    "        else:\n",
    "            pl(\"_\")\n",
    "    print()"
   ]
  },
  {
   "cell_type": "code",
   "execution_count": 18,
   "metadata": {},
   "outputs": [
    {
     "name": "stdout",
     "output_type": "stream",
     "text": [
      "1AAAAAAA16\n",
      "_3AAAAA14_\n",
      "__5AAA12__\n",
      "___7A10___\n",
      "____9____\n",
      "___6B11___\n",
      "__4BBB13__\n",
      "_2BBBBB15_\n",
      "0BBBBBBB17\n"
     ]
    }
   ],
   "source": [
    "for y in cr(1,9):\n",
    "    for x in cr(1,9):\n",
    "        if x==y:\n",
    "            a=x*2-1\n",
    "            pl(a)\n",
    "        elif x==9-(y-1):\n",
    "            a=x*2-2\n",
    "            pl(a)\n",
    "        elif x>=y and x<=9-(y-1):\n",
    "            pl(\"A\")\n",
    "        elif x<=y and x>=9-(y-1):\n",
    "            pl(\"B\")\n",
    "        else:\n",
    "            pl(\"_\")\n",
    "    print()"
   ]
  },
  {
   "cell_type": "code",
   "execution_count": 19,
   "metadata": {},
   "outputs": [
    {
     "name": "stdout",
     "output_type": "stream",
     "text": [
      "1_______16\n",
      "A3_____14B\n",
      "AA5___12BB\n",
      "AAA7_10BBB\n",
      "AAAA9BBBB\n",
      "AAA6_11BBB\n",
      "AA4___13BB\n",
      "A2_____15B\n",
      "0_______17\n"
     ]
    }
   ],
   "source": [
    "for y in cr(1,9):\n",
    "    for x in cr(1,9):\n",
    "        if x==y:\n",
    "            a=x*2-1\n",
    "            pl(a)\n",
    "        elif x==9-(y-1):\n",
    "            a=x*2-2\n",
    "            pl(a)\n",
    "        elif x<=y and x<=9-(y-1):\n",
    "            pl(\"A\")\n",
    "        elif x>=y and x>=9-(y-1):\n",
    "            pl(\"B\")\n",
    "        else:\n",
    "            pl(\"_\")\n",
    "    print()"
   ]
  },
  {
   "cell_type": "code",
   "execution_count": 24,
   "metadata": {},
   "outputs": [],
   "source": [
    "def cr(a,b):\n",
    "    return range(a,b+1)\n",
    "def pn(a):\n",
    "    return print(a,end=\"\")\n",
    "def fb(a):\n",
    "    if a<=2:\n",
    "        return 1\n",
    "    else:\n",
    "        return fb(a-1)+fb(a-2)"
   ]
  },
  {
   "cell_type": "code",
   "execution_count": 25,
   "metadata": {},
   "outputs": [
    {
     "name": "stdout",
     "output_type": "stream",
     "text": [
      "1\n",
      "1\n",
      "2\n",
      "3\n",
      "5\n",
      "8\n",
      "13\n",
      "21\n",
      "34\n"
     ]
    }
   ],
   "source": [
    "def fib(a):\n",
    "    if a<=2:\n",
    "        return 1\n",
    "    else:\n",
    "        return fib(a-1) + fib(a-2)\n",
    "for n in cr(1,9):\n",
    "        print(fib(n))"
   ]
  },
  {
   "cell_type": "code",
   "execution_count": 26,
   "metadata": {},
   "outputs": [
    {
     "name": "stdout",
     "output_type": "stream",
     "text": [
      "1\n",
      "1\n",
      "1\n",
      "3\n",
      "5\n",
      "9\n",
      "17\n",
      "31\n",
      "57\n"
     ]
    }
   ],
   "source": [
    "def fib(a):\n",
    "    if a<=3:\n",
    "        return 1\n",
    "    else:\n",
    "        return fib(a-1)+fib(a-2)+fib(a-3)\n",
    "for a in cr(1,9):\n",
    "        print(fib(a))"
   ]
  },
  {
   "cell_type": "code",
   "execution_count": 27,
   "metadata": {},
   "outputs": [
    {
     "name": "stdout",
     "output_type": "stream",
     "text": [
      "24 16\n",
      "16 8\n"
     ]
    },
    {
     "data": {
      "text/plain": [
       "8"
      ]
     },
     "execution_count": 27,
     "metadata": {},
     "output_type": "execute_result"
    }
   ],
   "source": [
    "def fpb(a,b):\n",
    "    if b==0:\n",
    "        return a\n",
    "    else:\n",
    "        print(a, b)\n",
    "        return fpb(b, a%b)\n",
    "fpb(24,16)"
   ]
  },
  {
   "cell_type": "code",
   "execution_count": 28,
   "metadata": {},
   "outputs": [
    {
     "name": "stdout",
     "output_type": "stream",
     "text": [
      "24 16\n",
      "16 8\n"
     ]
    },
    {
     "data": {
      "text/plain": [
       "48"
      ]
     },
     "execution_count": 28,
     "metadata": {},
     "output_type": "execute_result"
    }
   ],
   "source": [
    "def kpk (a ,b):\n",
    "    return a*b // fpb(a,b)\n",
    "kpk(24,16)"
   ]
  },
  {
   "cell_type": "code",
   "execution_count": 29,
   "metadata": {},
   "outputs": [
    {
     "name": "stdout",
     "output_type": "stream",
     "text": [
      "1AAAAAAA16\n",
      "D3AAAAA14B\n",
      "DD5AAA12BB\n",
      "DDD7A10BBB\n",
      "DDDD9BBBB\n",
      "DDD6C11BBB\n",
      "DD4CCC13BB\n",
      "D2CCCCC15B\n",
      "0CCCCCCC17\n"
     ]
    }
   ],
   "source": [
    "for y in cr(1,9):\n",
    "    for x in cr(1,9):\n",
    "        if x==y:\n",
    "            a=x*2-1\n",
    "            pl(a)\n",
    "        elif x==9-(y-1):\n",
    "            a=x*2-2\n",
    "            pl(a)\n",
    "        elif x>=y and x<=9-(y-1):\n",
    "            pl(\"A\")\n",
    "        elif x<=y and x>=9-(y-1):\n",
    "            pl(\"C\")\n",
    "        elif x<=y and x<=9-(y-1):\n",
    "            pl(\"D\")\n",
    "        elif x>=y and x>=9-(y-1):\n",
    "            pl(\"B\")\n",
    "        else:\n",
    "            pl(_)\n",
    "    print()"
   ]
  },
  {
   "cell_type": "code",
   "execution_count": 33,
   "metadata": {},
   "outputs": [
    {
     "name": "stdout",
     "output_type": "stream",
     "text": [
      "111111111\n",
      "111111111\n",
      "112222211\n",
      "112333211\n",
      "112353211\n",
      "112333211\n",
      "112222211\n",
      "111111111\n",
      "111111111\n"
     ]
    }
   ],
   "source": [
    "for y in cr(-4,4):\n",
    "    for x in cr(-4,4):\n",
    "        ax=abs (x)\n",
    "        ay=abs (y)\n",
    "        r=ax if ax>ay else ay\n",
    "        r=4-r+1\n",
    "        pl(fb(r))\n",
    "    print()"
   ]
  },
  {
   "cell_type": "code",
   "execution_count": 35,
   "metadata": {},
   "outputs": [
    {
     "name": "stdout",
     "output_type": "stream",
     "text": [
      "111111111\n",
      "1       1\n",
      "1 33333 1\n",
      "1 3   3 1\n",
      "1 3 5 3 1\n",
      "1 3   3 1\n",
      "1 33333 1\n",
      "1       1\n",
      "111111111\n"
     ]
    }
   ],
   "source": [
    "# soal 6\n",
    "for y in cr(-4,4):\n",
    "    for x in cr(-4,4):\n",
    "        c=abs(x) if abs(x)>abs(y)else abs(y)\n",
    "        n=4-c+1\n",
    "        if n%2==0:\n",
    "            pl(\" \")\n",
    "        else:\n",
    "            pl(n)\n",
    "    print()    \n",
    "\n"
   ]
  },
  {
   "cell_type": "code",
   "execution_count": null,
   "metadata": {},
   "outputs": [],
   "source": []
  }
 ],
 "metadata": {
  "kernelspec": {
   "display_name": "Python 3",
   "language": "python",
   "name": "python3"
  },
  "language_info": {
   "codemirror_mode": {
    "name": "ipython",
    "version": 3
   },
   "file_extension": ".py",
   "mimetype": "text/x-python",
   "name": "python",
   "nbconvert_exporter": "python",
   "pygments_lexer": "ipython3",
   "version": "3.6.5"
  }
 },
 "nbformat": 4,
 "nbformat_minor": 2
}
